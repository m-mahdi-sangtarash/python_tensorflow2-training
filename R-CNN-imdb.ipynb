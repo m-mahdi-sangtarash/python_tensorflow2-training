{
  "nbformat": 4,
  "nbformat_minor": 0,
  "metadata": {
    "colab": {
      "provenance": []
    },
    "kernelspec": {
      "name": "python3",
      "display_name": "Python 3"
    },
    "language_info": {
      "name": "python"
    }
  },
  "cells": [
    {
      "cell_type": "code",
      "execution_count": 5,
      "metadata": {
        "colab": {
          "base_uri": "https://localhost:8080/"
        },
        "id": "qz9Lcgh1nrf5",
        "outputId": "96de51ee-9e19-48b8-b895-5b0cb2e6b0a4"
      },
      "outputs": [
        {
          "output_type": "stream",
          "name": "stdout",
          "text": [
            "Epoch 1/5\n",
            "391/391 [==============================] - 140s 336ms/step - loss: 0.5448 - accuracy: 0.7048 - val_loss: 0.3883 - val_accuracy: 0.8320\n",
            "Epoch 2/5\n",
            "391/391 [==============================] - 144s 370ms/step - loss: 0.3007 - accuracy: 0.8788 - val_loss: 0.3617 - val_accuracy: 0.8460\n",
            "Epoch 3/5\n",
            "391/391 [==============================] - 145s 371ms/step - loss: 0.2053 - accuracy: 0.9274 - val_loss: 0.3813 - val_accuracy: 0.8465\n",
            "Epoch 4/5\n",
            "391/391 [==============================] - 145s 371ms/step - loss: 0.1478 - accuracy: 0.9534 - val_loss: 0.4459 - val_accuracy: 0.8378\n",
            "Epoch 5/5\n",
            "391/391 [==============================] - 145s 371ms/step - loss: 0.1073 - accuracy: 0.9685 - val_loss: 0.5239 - val_accuracy: 0.8369\n",
            "782/782 [==============================] - 35s 45ms/step - loss: 0.5239 - accuracy: 0.8369\n",
            " > 83.688\n"
          ]
        }
      ],
      "source": [
        "import tensorflow as tf\n",
        "\n",
        "def load_dataset():\n",
        "  (xtrain, ytrain), (xtest, ytest) = tf.keras.datasets.imdb.load_data(num_words=20000)\n",
        "\n",
        "  xtrain = tf.keras.preprocessing.sequence.pad_sequences(xtrain, maxlen=100, padding='pre')\n",
        "  xtest = tf.keras.preprocessing.sequence.pad_sequences(xtest, maxlen=100, padding='pre')\n",
        "\n",
        "  return xtrain, ytrain, xtest, ytest\n",
        "\n",
        "def define_model():\n",
        "  model = tf.keras.models.Sequential()\n",
        "\n",
        "  model.add(tf.keras.layers.Embedding(20000, 128))\n",
        "  model.add(tf.keras.layers.Bidirectional(tf.keras.layers.LSTM(32, return_sequences=True)))\n",
        "  model.add(tf.keras.layers.Bidirectional(tf.keras.layers.LSTM(64)))\n",
        "  model.add(tf.keras.layers.Dense(1, activation='sigmoid'))\n",
        "\n",
        "  return model\n",
        "\n",
        "xtrain, ytrain, xtest, ytest = load_dataset()\n",
        "\n",
        "model = define_model()\n",
        "\n",
        "opt = tf.keras.optimizers.Adam(0.0001)\n",
        "\n",
        "model.compile(optimizer=opt, loss='binary_crossentropy', metrics=['accuracy'])\n",
        "\n",
        "model.fit(xtrain, ytrain, epochs=5, batch_size=64, validation_data=(xtest, ytest))\n",
        "sloss, acc = model.evaluate(xtest, ytest)\n",
        "\n",
        "print(' > %.3f' % (acc * 100.0))"
      ]
    }
  ]
}