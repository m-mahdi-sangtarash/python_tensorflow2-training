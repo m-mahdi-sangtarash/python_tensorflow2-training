{
  "nbformat": 4,
  "nbformat_minor": 0,
  "metadata": {
    "colab": {
      "provenance": []
    },
    "kernelspec": {
      "name": "python3",
      "display_name": "Python 3"
    },
    "language_info": {
      "name": "python"
    }
  },
  "cells": [
    {
      "cell_type": "code",
      "execution_count": 1,
      "metadata": {
        "colab": {
          "base_uri": "https://localhost:8080/"
        },
        "id": "Ru35Ll-68QAW",
        "outputId": "dcdb6c4f-7a2a-4052-9780-b71286136297"
      },
      "outputs": [
        {
          "output_type": "stream",
          "name": "stdout",
          "text": [
            "Downloading data from https://storage.googleapis.com/tensorflow/tf-keras-datasets/train-labels-idx1-ubyte.gz\n",
            "29515/29515 [==============================] - 0s 0us/step\n",
            "Downloading data from https://storage.googleapis.com/tensorflow/tf-keras-datasets/train-images-idx3-ubyte.gz\n",
            "26421880/26421880 [==============================] - 0s 0us/step\n",
            "Downloading data from https://storage.googleapis.com/tensorflow/tf-keras-datasets/t10k-labels-idx1-ubyte.gz\n",
            "5148/5148 [==============================] - 0s 0us/step\n",
            "Downloading data from https://storage.googleapis.com/tensorflow/tf-keras-datasets/t10k-images-idx3-ubyte.gz\n",
            "4422102/4422102 [==============================] - 0s 0us/step\n",
            "Epoch 1/10\n",
            "1875/1875 [==============================] - 5s 2ms/step - loss: 0.5629 - accuracy: 0.8086\n",
            "Epoch 2/10\n",
            "1875/1875 [==============================] - 5s 3ms/step - loss: 0.4146 - accuracy: 0.8565\n",
            "Epoch 3/10\n",
            "1875/1875 [==============================] - 4s 2ms/step - loss: 0.3849 - accuracy: 0.8637\n",
            "Epoch 4/10\n",
            "1875/1875 [==============================] - 4s 2ms/step - loss: 0.3659 - accuracy: 0.8698\n",
            "Epoch 5/10\n",
            "1875/1875 [==============================] - 5s 3ms/step - loss: 0.3488 - accuracy: 0.8750\n",
            "Epoch 6/10\n",
            "1875/1875 [==============================] - 4s 2ms/step - loss: 0.3374 - accuracy: 0.8781\n",
            "Epoch 7/10\n",
            "1875/1875 [==============================] - 5s 3ms/step - loss: 0.3265 - accuracy: 0.8827\n",
            "Epoch 8/10\n",
            "1875/1875 [==============================] - 4s 2ms/step - loss: 0.3190 - accuracy: 0.8843\n",
            "Epoch 9/10\n",
            "1875/1875 [==============================] - 4s 2ms/step - loss: 0.3106 - accuracy: 0.8869\n",
            "Epoch 10/10\n",
            "1875/1875 [==============================] - 5s 3ms/step - loss: 0.3050 - accuracy: 0.8880\n",
            "313/313 [==============================] - 1s 2ms/step - loss: 0.3695 - accuracy: 0.8693\n",
            "Test Data Accuracy 0.87\n"
          ]
        }
      ],
      "source": [
        "import tensorflow as tf\n",
        "from tensorflow import keras\n",
        "import numpy as np\n",
        "\n",
        "(train_data, train_labels), (test_data, test_labels) = keras.datasets.fashion_mnist.load_data()\n",
        "\n",
        "train_data = train_data / 255.0\n",
        "test_data = test_data / 255.0\n",
        "\n",
        "input_data_shape = (28, 28)\n",
        "\n",
        "nn_model = keras.models.Sequential()\n",
        "\n",
        "nn_model.add(keras.layers.Flatten(input_shape= input_data_shape))\n",
        "nn_model.add(keras.layers.Dense(32, activation= 'relu'))\n",
        "nn_model.add(keras.layers.Dense(10, activation= 'softmax'))\n",
        "\n",
        "nn_model.compile(optimizer=\"adam\", loss= \"sparse_categorical_crossentropy\", metrics=['accuracy'])\n",
        "nn_model.fit(train_data, train_labels, epochs=10)\n",
        "\n",
        "test_data_loss, test_data_accuracy = nn_model.evaluate(test_data, test_labels)\n",
        "\n",
        "print('Test Data Accuracy {}'.format(round(float(test_data_accuracy), 2)))"
      ]
    }
  ]
}